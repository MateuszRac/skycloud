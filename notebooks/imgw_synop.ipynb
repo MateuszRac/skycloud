{
 "cells": [
  {
   "cell_type": "code",
   "execution_count": 1,
   "id": "01852557",
   "metadata": {},
   "outputs": [],
   "source": [
    "import pandas as pd\n",
    "import os\n",
    "from dotenv import load_dotenv\n",
    "import requests\n",
    "\n",
    "from jinja2 import Environment, FileSystemLoader"
   ]
  },
  {
   "cell_type": "code",
   "execution_count": 6,
   "id": "4b2cf93c",
   "metadata": {},
   "outputs": [],
   "source": [
    "load_dotenv()\n",
    "PROJECT_PATH = os.getenv(\"project_path\")\n",
    "PROJECT_PATH = os.path.normpath(PROJECT_PATH)\n",
    "\n",
    "TEMPLATE_DIR = os.path.join(PROJECT_PATH, \"html\")\n",
    "WWW_PATH  = os.getenv('www_path')\n",
    "WWW_PATH = os.path.normpath(WWW_PATH)"
   ]
  },
  {
   "cell_type": "code",
   "execution_count": 3,
   "id": "9cb58ac3",
   "metadata": {},
   "outputs": [],
   "source": [
    "# Send GET request\n",
    "url = 'https://danepubliczne.imgw.pl/api/data/synop/'\n",
    "response = requests.get(url)\n",
    "response.raise_for_status()\n",
    "data = response.json()"
   ]
  },
  {
   "cell_type": "code",
   "execution_count": 4,
   "id": "59671435",
   "metadata": {},
   "outputs": [],
   "source": [
    "df = pd.DataFrame(data)\n"
   ]
  },
  {
   "cell_type": "code",
   "execution_count": 7,
   "id": "d47bed9b",
   "metadata": {},
   "outputs": [
    {
     "ename": "TemplateNotFound",
     "evalue": "'template_index.php' not found in search path: 'D:\\\\SkyClout\\\\skycloud\\\\html'",
     "output_type": "error",
     "traceback": [
      "\u001b[31m---------------------------------------------------------------------------\u001b[39m",
      "\u001b[31mTemplateNotFound\u001b[39m                          Traceback (most recent call last)",
      "\u001b[36mCell\u001b[39m\u001b[36m \u001b[39m\u001b[32mIn[7]\u001b[39m\u001b[32m, line 2\u001b[39m\n\u001b[32m      1\u001b[39m env = Environment(loader=FileSystemLoader(TEMPLATE_DIR))\n\u001b[32m----> \u001b[39m\u001b[32m2\u001b[39m template = \u001b[43menv\u001b[49m\u001b[43m.\u001b[49m\u001b[43mget_template\u001b[49m\u001b[43m(\u001b[49m\u001b[33;43m'\u001b[39;49m\u001b[33;43mtemplate_index.php\u001b[39;49m\u001b[33;43m'\u001b[39;49m\u001b[43m)\u001b[49m\n\u001b[32m      4\u001b[39m \u001b[38;5;66;03m# Render the template\u001b[39;00m\n\u001b[32m      5\u001b[39m html = template.render(\n\u001b[32m      6\u001b[39m     title=\u001b[33m\"\u001b[39m\u001b[33mIMGW\u001b[39m\u001b[33m\"\u001b[39m,\n\u001b[32m      7\u001b[39m     columns=df.columns.tolist(),\n\u001b[32m      8\u001b[39m     rows=df.values.tolist()\n\u001b[32m      9\u001b[39m )\n",
      "\u001b[36mFile \u001b[39m\u001b[32md:\\SkyCloud\\.venv\\Lib\\site-packages\\jinja2\\environment.py:1016\u001b[39m, in \u001b[36mEnvironment.get_template\u001b[39m\u001b[34m(self, name, parent, globals)\u001b[39m\n\u001b[32m   1013\u001b[39m \u001b[38;5;28;01mif\u001b[39;00m parent \u001b[38;5;129;01mis\u001b[39;00m \u001b[38;5;129;01mnot\u001b[39;00m \u001b[38;5;28;01mNone\u001b[39;00m:\n\u001b[32m   1014\u001b[39m     name = \u001b[38;5;28mself\u001b[39m.join_path(name, parent)\n\u001b[32m-> \u001b[39m\u001b[32m1016\u001b[39m \u001b[38;5;28;01mreturn\u001b[39;00m \u001b[38;5;28;43mself\u001b[39;49m\u001b[43m.\u001b[49m\u001b[43m_load_template\u001b[49m\u001b[43m(\u001b[49m\u001b[43mname\u001b[49m\u001b[43m,\u001b[49m\u001b[43m \u001b[49m\u001b[38;5;28;43mglobals\u001b[39;49m\u001b[43m)\u001b[49m\n",
      "\u001b[36mFile \u001b[39m\u001b[32md:\\SkyCloud\\.venv\\Lib\\site-packages\\jinja2\\environment.py:975\u001b[39m, in \u001b[36mEnvironment._load_template\u001b[39m\u001b[34m(self, name, globals)\u001b[39m\n\u001b[32m    971\u001b[39m             template.globals.update(\u001b[38;5;28mglobals\u001b[39m)\n\u001b[32m    973\u001b[39m         \u001b[38;5;28;01mreturn\u001b[39;00m template\n\u001b[32m--> \u001b[39m\u001b[32m975\u001b[39m template = \u001b[38;5;28;43mself\u001b[39;49m\u001b[43m.\u001b[49m\u001b[43mloader\u001b[49m\u001b[43m.\u001b[49m\u001b[43mload\u001b[49m\u001b[43m(\u001b[49m\u001b[38;5;28;43mself\u001b[39;49m\u001b[43m,\u001b[49m\u001b[43m \u001b[49m\u001b[43mname\u001b[49m\u001b[43m,\u001b[49m\u001b[43m \u001b[49m\u001b[38;5;28;43mself\u001b[39;49m\u001b[43m.\u001b[49m\u001b[43mmake_globals\u001b[49m\u001b[43m(\u001b[49m\u001b[38;5;28;43mglobals\u001b[39;49m\u001b[43m)\u001b[49m\u001b[43m)\u001b[49m\n\u001b[32m    977\u001b[39m \u001b[38;5;28;01mif\u001b[39;00m \u001b[38;5;28mself\u001b[39m.cache \u001b[38;5;129;01mis\u001b[39;00m \u001b[38;5;129;01mnot\u001b[39;00m \u001b[38;5;28;01mNone\u001b[39;00m:\n\u001b[32m    978\u001b[39m     \u001b[38;5;28mself\u001b[39m.cache[cache_key] = template\n",
      "\u001b[36mFile \u001b[39m\u001b[32md:\\SkyCloud\\.venv\\Lib\\site-packages\\jinja2\\loaders.py:126\u001b[39m, in \u001b[36mBaseLoader.load\u001b[39m\u001b[34m(self, environment, name, globals)\u001b[39m\n\u001b[32m    122\u001b[39m     \u001b[38;5;28mglobals\u001b[39m = {}\n\u001b[32m    124\u001b[39m \u001b[38;5;66;03m# first we try to get the source for this template together\u001b[39;00m\n\u001b[32m    125\u001b[39m \u001b[38;5;66;03m# with the filename and the uptodate function.\u001b[39;00m\n\u001b[32m--> \u001b[39m\u001b[32m126\u001b[39m source, filename, uptodate = \u001b[38;5;28;43mself\u001b[39;49m\u001b[43m.\u001b[49m\u001b[43mget_source\u001b[49m\u001b[43m(\u001b[49m\u001b[43menvironment\u001b[49m\u001b[43m,\u001b[49m\u001b[43m \u001b[49m\u001b[43mname\u001b[49m\u001b[43m)\u001b[49m\n\u001b[32m    128\u001b[39m \u001b[38;5;66;03m# try to load the code from the bytecode cache if there is a\u001b[39;00m\n\u001b[32m    129\u001b[39m \u001b[38;5;66;03m# bytecode cache configured.\u001b[39;00m\n\u001b[32m    130\u001b[39m bcc = environment.bytecode_cache\n",
      "\u001b[36mFile \u001b[39m\u001b[32md:\\SkyCloud\\.venv\\Lib\\site-packages\\jinja2\\loaders.py:209\u001b[39m, in \u001b[36mFileSystemLoader.get_source\u001b[39m\u001b[34m(self, environment, template)\u001b[39m\n\u001b[32m    207\u001b[39m     plural = \u001b[33m\"\u001b[39m\u001b[33mpath\u001b[39m\u001b[33m\"\u001b[39m \u001b[38;5;28;01mif\u001b[39;00m \u001b[38;5;28mlen\u001b[39m(\u001b[38;5;28mself\u001b[39m.searchpath) == \u001b[32m1\u001b[39m \u001b[38;5;28;01melse\u001b[39;00m \u001b[33m\"\u001b[39m\u001b[33mpaths\u001b[39m\u001b[33m\"\u001b[39m\n\u001b[32m    208\u001b[39m     paths_str = \u001b[33m\"\u001b[39m\u001b[33m, \u001b[39m\u001b[33m\"\u001b[39m.join(\u001b[38;5;28mrepr\u001b[39m(p) \u001b[38;5;28;01mfor\u001b[39;00m p \u001b[38;5;129;01min\u001b[39;00m \u001b[38;5;28mself\u001b[39m.searchpath)\n\u001b[32m--> \u001b[39m\u001b[32m209\u001b[39m     \u001b[38;5;28;01mraise\u001b[39;00m TemplateNotFound(\n\u001b[32m    210\u001b[39m         template,\n\u001b[32m    211\u001b[39m         \u001b[33mf\u001b[39m\u001b[33m\"\u001b[39m\u001b[38;5;132;01m{\u001b[39;00mtemplate\u001b[38;5;132;01m!r}\u001b[39;00m\u001b[33m not found in search \u001b[39m\u001b[38;5;132;01m{\u001b[39;00mplural\u001b[38;5;132;01m}\u001b[39;00m\u001b[33m: \u001b[39m\u001b[38;5;132;01m{\u001b[39;00mpaths_str\u001b[38;5;132;01m}\u001b[39;00m\u001b[33m\"\u001b[39m,\n\u001b[32m    212\u001b[39m     )\n\u001b[32m    214\u001b[39m \u001b[38;5;28;01mwith\u001b[39;00m \u001b[38;5;28mopen\u001b[39m(filename, encoding=\u001b[38;5;28mself\u001b[39m.encoding) \u001b[38;5;28;01mas\u001b[39;00m f:\n\u001b[32m    215\u001b[39m     contents = f.read()\n",
      "\u001b[31mTemplateNotFound\u001b[39m: 'template_index.php' not found in search path: 'D:\\\\SkyClout\\\\skycloud\\\\html'"
     ]
    }
   ],
   "source": [
    "\n",
    "env = Environment(loader=FileSystemLoader(TEMPLATE_DIR))\n",
    "template = env.get_template('template_index.php')\n",
    "\n",
    "# Render the template\n",
    "html = template.render(\n",
    "    title=\"IMGW\",\n",
    "    columns=df.columns.tolist(),\n",
    "    rows=df.values.tolist()\n",
    ")\n",
    "\n",
    "# Save output\n",
    "output_file = os.path.join(WWW_PATH,\"index.php\")\n",
    "with open(output_file, \"w\", encoding=\"utf-8\") as f:\n",
    "    f.write(html)\n",
    "\n",
    "print(f\"HTML written to {output_file}\")\n"
   ]
  }
 ],
 "metadata": {
  "kernelspec": {
   "display_name": ".venv",
   "language": "python",
   "name": "python3"
  },
  "language_info": {
   "codemirror_mode": {
    "name": "ipython",
    "version": 3
   },
   "file_extension": ".py",
   "mimetype": "text/x-python",
   "name": "python",
   "nbconvert_exporter": "python",
   "pygments_lexer": "ipython3",
   "version": "3.13.0"
  }
 },
 "nbformat": 4,
 "nbformat_minor": 5
}
