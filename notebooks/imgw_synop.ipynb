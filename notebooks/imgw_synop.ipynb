{
 "cells": [
  {
   "cell_type": "code",
   "execution_count": 1,
   "id": "01852557",
   "metadata": {},
   "outputs": [],
   "source": [
    "import pandas as pd\n",
    "import os\n",
    "from dotenv import load_dotenv\n",
    "import requests\n",
    "\n",
    "from jinja2 import Environment, FileSystemLoader"
   ]
  },
  {
   "cell_type": "code",
   "execution_count": 2,
   "id": "4b2cf93c",
   "metadata": {},
   "outputs": [],
   "source": [
    "load_dotenv()\n",
    "PROJECT_PATH = os.getenv(\"project_path\")\n",
    "PROJECT_PATH = os.path.normpath(PROJECT_PATH)\n",
    "\n",
    "TEMPLATE_DIR = os.path.join(PROJECT_PATH, \"html\")\n",
    "WWW_PATH  = os.getenv('www_path')\n",
    "WWW_PATH = os.path.normpath(WWW_PATH)"
   ]
  },
  {
   "cell_type": "code",
   "execution_count": 3,
   "id": "9cb58ac3",
   "metadata": {},
   "outputs": [],
   "source": [
    "# Send GET request\n",
    "url = 'https://danepubliczne.imgw.pl/api/data/synop/'\n",
    "response = requests.get(url)\n",
    "response.raise_for_status()\n",
    "data = response.json()"
   ]
  },
  {
   "cell_type": "code",
   "execution_count": 4,
   "id": "59671435",
   "metadata": {},
   "outputs": [],
   "source": [
    "df = pd.DataFrame(data)\n"
   ]
  },
  {
   "cell_type": "code",
   "execution_count": 5,
   "id": "d47bed9b",
   "metadata": {},
   "outputs": [
    {
     "name": "stdout",
     "output_type": "stream",
     "text": [
      "HTML written to D:\\SkyCloud\\www\\index.php\n"
     ]
    }
   ],
   "source": [
    "\n",
    "env = Environment(loader=FileSystemLoader(TEMPLATE_DIR))\n",
    "template = env.get_template('template_index.php')\n",
    "\n",
    "# Render the template\n",
    "html = template.render(\n",
    "    title=\"IMGW\",\n",
    "    columns=df.columns.tolist(),\n",
    "    rows=df.values.tolist()\n",
    ")\n",
    "\n",
    "# Save output\n",
    "output_file = os.path.join(WWW_PATH,\"index.php\")\n",
    "with open(output_file, \"w\", encoding=\"utf-8\") as f:\n",
    "    f.write(html)\n",
    "\n",
    "print(f\"HTML written to {output_file}\")\n"
   ]
  }
 ],
 "metadata": {
  "kernelspec": {
   "display_name": ".venv",
   "language": "python",
   "name": "python3"
  },
  "language_info": {
   "codemirror_mode": {
    "name": "ipython",
    "version": 3
   },
   "file_extension": ".py",
   "mimetype": "text/x-python",
   "name": "python",
   "nbconvert_exporter": "python",
   "pygments_lexer": "ipython3",
   "version": "3.13.0"
  }
 },
 "nbformat": 4,
 "nbformat_minor": 5
}
